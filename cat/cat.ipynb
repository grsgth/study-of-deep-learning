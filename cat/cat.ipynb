{
 "cells": [
  {
   "cell_type": "code",
   "execution_count": 8,
   "metadata": {
    "collapsed": true
   },
   "outputs": [],
   "source": [
    "from PIL import Image\n",
    "import numpy as np\n",
    "import matplotlib.pyplot as plt\n",
    "import skimage.io as io\n",
    "from skimage import data_dir,io,transform,color"
   ]
  },
  {
   "cell_type": "code",
   "execution_count": 9,
   "metadata": {},
   "outputs": [
    {
     "data": {
      "text/plain": [
       "'\\ndef ImageToMatrix(filename):\\n    # 读取图片\\n    im = Image.open(filename)\\n    im = im.resize((60,60))\\n    # 显示图片\\n#     im.show()  \\n    width,height = im.size\\n    #im = im.convert(\"L\") \\n    data = im.getdata()\\n    data = np.array(data,dtype=\\'float\\')/255.0\\n    #new_data = np.reshape(data,(width,height))\\n    new_data = np.reshape(data,(height*width*3,1))\\n    return new_data\\n\\ndef MatrixToImage(data):\\n    data = data*255\\n    new_im = Image.fromarray(data.astype(np.uint8))\\n    return new_im\\n'"
      ]
     },
     "execution_count": 9,
     "metadata": {},
     "output_type": "execute_result"
    }
   ],
   "source": [
    "'''\n",
    "def ImageToMatrix(filename):\n",
    "    # 读取图片\n",
    "    im = Image.open(filename)\n",
    "    im = im.resize((60,60))\n",
    "    # 显示图片\n",
    "#     im.show()  \n",
    "    width,height = im.size\n",
    "    #im = im.convert(\"L\") \n",
    "    data = im.getdata()\n",
    "    data = np.array(data,dtype='float')/255.0\n",
    "    #new_data = np.reshape(data,(width,height))\n",
    "    new_data = np.reshape(data,(height*width*3,1))\n",
    "    return new_data\n",
    "\n",
    "def MatrixToImage(data):\n",
    "    data = data*255\n",
    "    new_im = Image.fromarray(data.astype(np.uint8))\n",
    "    return new_im\n",
    "'''"
   ]
  },
  {
   "cell_type": "code",
   "execution_count": 10,
   "metadata": {
    "collapsed": true
   },
   "outputs": [],
   "source": [
    "def sigmoid(z):\n",
    "    s = 1/(1+np.exp(-z))\n",
    "    return s\n",
    "\n",
    "def initialize_with_zeros(dim):\n",
    "    w = np.zeros((dim,1))\n",
    "    b = 0\n",
    "    return w,b\n",
    "\n",
    "def propagate(w, b, X, Y):\n",
    "    A = sigmoid(np.dot(w.T,X)+b)\n",
    "    m = X.shape[1]\n",
    "    \n",
    "    cost = (Y*np.log(A)+(1-Y)*np.log(1-A)).sum()/-m\n",
    "    \n",
    "    dw = np.dot(X,(A-Y).T)/m\n",
    "    db = (A-Y).sum()/m\n",
    "    grads = {\"dw\":dw,\"db\":db}\n",
    "    \n",
    "    return grads,cost\n",
    "\n",
    "def optimize(w, b, X, Y, num_iterations, learning_rate, print_cost = False):\n",
    "    for i in range(num_iterations):\n",
    "        costs = []\n",
    "        grads,cost = propagate(w, b, X, Y)\n",
    "        dw = grads[\"dw\"]\n",
    "        db = grads[\"db\"]\n",
    "        w = w - learning_rate*dw\n",
    "        b = b - learning_rate*db\n",
    "        \n",
    "        if i % 100 == 0:\n",
    "            costs.append(cost)\n",
    "        if print_cost and i % 100 ==0:\n",
    "            print(\"Cost after iteration %i:%f\" %(i, cost))\n",
    "    \n",
    "    params = {\"w\": w, \"b\": b}\n",
    "    grads = {\"dw\": dw,\"db\": db}\n",
    "    \n",
    "    return params,grads,costs\n",
    "\n",
    "def predict(w, b, X):\n",
    "    m = X.shape[1]\n",
    "    Y_prediction = np.zeros((1,m))\n",
    "    w = w.reshape(X.shape[0],1)\n",
    "    \n",
    "    A = sigmoid(np.dot(w.T,X)+b)\n",
    "    \n",
    "    for i in range(A.shape[1]):\n",
    "        if A[0,i]<=0.5:\n",
    "            Y_prediction[0,i] = 0\n",
    "        else:\n",
    "            Y_prediction[0,i] = 1\n",
    "    \n",
    "    return Y_prediction\n",
    "\n",
    "def model(X_train, Y_train, X_test, Y_test, num_iterations = 2000, learning_rate = 0.5, print_cost = False):\n",
    "    w,b = initialize_with_zeros(X_train.shape[0])\n",
    "    parameters, grads, costs = optimize(w, b, X_train, Y_train, num_iterations, learning_rate, print_cost)\n",
    "    w = parameters[\"w\"]\n",
    "    b = parameters[\"b\"]\n",
    "    \n",
    "    Y_prediction_train = predict(w, b, X_train)\n",
    "    Y_prediction_test = predict(w, b, X_test)\n",
    "    \n",
    "    print(\"train accuracy: {} %\".format(100 - np.mean(np.abs(Y_prediction_train - Y_train)) * 100))\n",
    "    print(\"test accuracy: {} %\".format(100 - np.mean(np.abs(Y_prediction_test - Y_test)) * 100))\n",
    "    \n",
    "    d = {\"costs\": costs,\n",
    "         \"Y_prediction_test\": Y_prediction_test, \n",
    "         \"Y_prediction_train\" : Y_prediction_train, \n",
    "         \"w\" : w, \n",
    "         \"b\" : b,\n",
    "         \"learning_rate\" : learning_rate,\n",
    "         \"num_iterations\": num_iterations}\n",
    "    \n",
    "    return d"
   ]
  },
  {
   "cell_type": "code",
   "execution_count": 11,
   "metadata": {
    "collapsed": true
   },
   "outputs": [],
   "source": [
    "def X_generate(name):\n",
    "    coll = io.ImageCollection(name)\n",
    "    x = np.zeros((len(coll),60*60*3,1))\n",
    "    for i in range(len(coll)):\n",
    "        im = Image.fromarray(coll[i].astype(np.uint8))\n",
    "        im = im.resize((60,60))\n",
    "        width,height = im.size\n",
    "        #im = im.convert(\"L\") \n",
    "        data = im.getdata()\n",
    "        data = np.array(data,dtype='float')/255.0\n",
    "        #new_data = np.reshape(data,(width,height))\n",
    "        x[i] = np.reshape(data,(height*width*3,1))   \n",
    "    X = x[0]\n",
    "    for i in range(1,x.shape[0]):\n",
    "            X = np.hstack((X,x[i]))\n",
    "    return X"
   ]
  },
  {
   "cell_type": "code",
   "execution_count": 12,
   "metadata": {
    "collapsed": true
   },
   "outputs": [],
   "source": [
    "X_train = X_generate('C:/Users/Cheshire/Desktop/cat1/train/*.jpg') #注意路径\n",
    "Y_train = np.array([[0,0,0,0,1,1,1,1,1,1,1,1,1,1]])"
   ]
  },
  {
   "cell_type": "code",
   "execution_count": 13,
   "metadata": {
    "collapsed": true
   },
   "outputs": [],
   "source": [
    "X_test = X_generate('C:/Users/Cheshire/Desktop/cat1/test/*.jpg') #注意路径\n",
    "Y_test = np.array([[0, 0, 0, 1, 1, 1, 0, 0, 0]])"
   ]
  },
  {
   "cell_type": "code",
   "execution_count": 14,
   "metadata": {},
   "outputs": [
    {
     "name": "stderr",
     "output_type": "stream",
     "text": [
      "D:\\anaconda3\\lib\\site-packages\\ipykernel_launcher.py:14: RuntimeWarning: divide by zero encountered in log\n",
      "  \n",
      "D:\\anaconda3\\lib\\site-packages\\ipykernel_launcher.py:14: RuntimeWarning: invalid value encountered in multiply\n",
      "  \n"
     ]
    },
    {
     "name": "stdout",
     "output_type": "stream",
     "text": [
      "train accuracy: 100.0 %\n",
      "test accuracy: 100.0 %\n",
      "costs = []\n",
      "Y_prediction_test = [[ 0.  0.  0.  1.  1.  1.  0.  0.  0.]]\n",
      "Y_prediction_train = [[ 0.  0.  0.  0.  1.  1.  1.  1.  1.  1.  1.  1.  1.  1.]]\n",
      "w = [[-0.02511316]\n",
      " [-0.1903744 ]\n",
      " [-0.28346036]\n",
      " ..., \n",
      " [ 0.03358964]\n",
      " [-0.0247696 ]\n",
      " [-0.0672169 ]]\n",
      "b = 0.0445338407782\n",
      "learning_rate = 0.5\n",
      "num_iterations = 2000\n"
     ]
    }
   ],
   "source": [
    "\n",
    "d = model(X_train, Y_train, X_test, Y_test, num_iterations = 2000, learning_rate = 0.5, print_cost = False)\n",
    "\n",
    "print (\"costs = \" + str(d[\"costs\"]))\n",
    "print (\"Y_prediction_test = \" + str(d[\"Y_prediction_test\"]))\n",
    "print (\"Y_prediction_train = \" + str(d[\"Y_prediction_train\"]))\n",
    "print (\"w = \" + str(d[\"w\"]))\n",
    "print (\"b = \" + str(d[\"b\"]))\n",
    "print (\"learning_rate = \" + str(d[\"learning_rate\"]))\n",
    "print (\"num_iterations = \" + str(d[\"num_iterations\"]))"
   ]
  },
  {
   "cell_type": "code",
   "execution_count": null,
   "metadata": {
    "collapsed": true
   },
   "outputs": [],
   "source": []
  }
 ],
 "metadata": {
  "kernelspec": {
   "display_name": "Python 3",
   "language": "python",
   "name": "python3"
  },
  "language_info": {
   "codemirror_mode": {
    "name": "ipython",
    "version": 3
   },
   "file_extension": ".py",
   "mimetype": "text/x-python",
   "name": "python",
   "nbconvert_exporter": "python",
   "pygments_lexer": "ipython3",
   "version": "3.6.1"
  }
 },
 "nbformat": 4,
 "nbformat_minor": 2
}
